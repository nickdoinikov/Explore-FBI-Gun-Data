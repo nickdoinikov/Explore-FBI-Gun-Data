{
 "cells": [
  {
   "cell_type": "markdown",
   "metadata": {},
   "source": [
    "# Project: Investigate the FBI Gun Data\n",
    "\n",
    "## Table of Contents\n",
    "<ul>\n",
    "<li><a href=\"#intro\">Introduction</a></li>\n",
    "<li><a href=\"#wrangling\">Data Wrangling</a></li>\n",
    "<li><a href=\"#eda\">Exploratory Data Analysis</a></li>\n",
    "<li><a href=\"#conclusions\">Conclusions</a></li>\n",
    "</ul>"
   ]
  },
  {
   "cell_type": "markdown",
   "metadata": {},
   "source": [
    "<a id='intro'></a>\n",
    "## Introduction\n",
    "\n",
    "The data comes from the FBI's National Instant Criminal Background Check System (NCIS). The NICS is used by to determine whether a prospective buyer is eligible to buy firearms or explosives. Gun shops call into this system to ensure that each customer does not have a criminal record or isn’t otherwise ineligible to make a purchase.\n",
    "\n",
    "In this database, I will analyse overall trends in buying/dealing with firearms, and also will eplore geographical tendencies."
   ]
  },
  {
   "cell_type": "code",
   "execution_count": 1,
   "metadata": {},
   "outputs": [],
   "source": [
    "# Import necessary applications\n",
    "\n",
    "import pandas as pd\n",
    "import matplotlib.pyplot as plt\n",
    "%matplotlib inline"
   ]
  },
  {
   "cell_type": "markdown",
   "metadata": {},
   "source": [
    "<a id='wrangling'></a>\n",
    "## Data Wrangling\n",
    "\n",
    "In this section of the report, I will:\n",
    "* load in the data;\n",
    "* check for cleanliness;\n",
    "* trim and clean the dataset for analysis\n",
    "\n",
    "### General Properties"
   ]
  },
  {
   "cell_type": "code",
   "execution_count": 3,
   "metadata": {},
   "outputs": [],
   "source": [
    "# load dataset\n",
    "df_gun = pd.read_csv('gun_data.csv', sep=';')"
   ]
  },
  {
   "cell_type": "code",
   "execution_count": 4,
   "metadata": {},
   "outputs": [
    {
     "data": {
      "text/html": [
       "<div>\n",
       "<style scoped>\n",
       "    .dataframe tbody tr th:only-of-type {\n",
       "        vertical-align: middle;\n",
       "    }\n",
       "\n",
       "    .dataframe tbody tr th {\n",
       "        vertical-align: top;\n",
       "    }\n",
       "\n",
       "    .dataframe thead th {\n",
       "        text-align: right;\n",
       "    }\n",
       "</style>\n",
       "<table border=\"1\" class=\"dataframe\">\n",
       "  <thead>\n",
       "    <tr style=\"text-align: right;\">\n",
       "      <th></th>\n",
       "      <th>month</th>\n",
       "      <th>state</th>\n",
       "      <th>permit</th>\n",
       "      <th>permit_recheck</th>\n",
       "      <th>handgun</th>\n",
       "      <th>long_gun</th>\n",
       "      <th>other</th>\n",
       "      <th>multiple</th>\n",
       "      <th>admin</th>\n",
       "      <th>prepawn_handgun</th>\n",
       "      <th>...</th>\n",
       "      <th>returned_other</th>\n",
       "      <th>rentals_handgun</th>\n",
       "      <th>rentals_long_gun</th>\n",
       "      <th>private_sale_handgun</th>\n",
       "      <th>private_sale_long_gun</th>\n",
       "      <th>private_sale_other</th>\n",
       "      <th>return_to_seller_handgun</th>\n",
       "      <th>return_to_seller_long_gun</th>\n",
       "      <th>return_to_seller_other</th>\n",
       "      <th>totals</th>\n",
       "    </tr>\n",
       "  </thead>\n",
       "  <tbody>\n",
       "    <tr>\n",
       "      <td>0</td>\n",
       "      <td>2017-09</td>\n",
       "      <td>Alabama</td>\n",
       "      <td>16717.0</td>\n",
       "      <td>0.0</td>\n",
       "      <td>5734.0</td>\n",
       "      <td>6320.0</td>\n",
       "      <td>221.0</td>\n",
       "      <td>317</td>\n",
       "      <td>0.0</td>\n",
       "      <td>15.0</td>\n",
       "      <td>...</td>\n",
       "      <td>0.0</td>\n",
       "      <td>0.0</td>\n",
       "      <td>0.0</td>\n",
       "      <td>9.0</td>\n",
       "      <td>16.0</td>\n",
       "      <td>3.0</td>\n",
       "      <td>0.0</td>\n",
       "      <td>0.0</td>\n",
       "      <td>3.0</td>\n",
       "      <td>32019</td>\n",
       "    </tr>\n",
       "    <tr>\n",
       "      <td>1</td>\n",
       "      <td>2017-09</td>\n",
       "      <td>Alaska</td>\n",
       "      <td>209.0</td>\n",
       "      <td>2.0</td>\n",
       "      <td>2320.0</td>\n",
       "      <td>2930.0</td>\n",
       "      <td>219.0</td>\n",
       "      <td>160</td>\n",
       "      <td>0.0</td>\n",
       "      <td>5.0</td>\n",
       "      <td>...</td>\n",
       "      <td>0.0</td>\n",
       "      <td>0.0</td>\n",
       "      <td>0.0</td>\n",
       "      <td>17.0</td>\n",
       "      <td>24.0</td>\n",
       "      <td>1.0</td>\n",
       "      <td>0.0</td>\n",
       "      <td>0.0</td>\n",
       "      <td>0.0</td>\n",
       "      <td>6303</td>\n",
       "    </tr>\n",
       "    <tr>\n",
       "      <td>2</td>\n",
       "      <td>2017-09</td>\n",
       "      <td>Arizona</td>\n",
       "      <td>5069.0</td>\n",
       "      <td>382.0</td>\n",
       "      <td>11063.0</td>\n",
       "      <td>7946.0</td>\n",
       "      <td>920.0</td>\n",
       "      <td>631</td>\n",
       "      <td>0.0</td>\n",
       "      <td>13.0</td>\n",
       "      <td>...</td>\n",
       "      <td>0.0</td>\n",
       "      <td>0.0</td>\n",
       "      <td>0.0</td>\n",
       "      <td>38.0</td>\n",
       "      <td>12.0</td>\n",
       "      <td>2.0</td>\n",
       "      <td>0.0</td>\n",
       "      <td>0.0</td>\n",
       "      <td>0.0</td>\n",
       "      <td>28394</td>\n",
       "    </tr>\n",
       "  </tbody>\n",
       "</table>\n",
       "<p>3 rows × 27 columns</p>\n",
       "</div>"
      ],
      "text/plain": [
       "     month    state   permit  permit_recheck  handgun  long_gun  other  \\\n",
       "0  2017-09  Alabama  16717.0             0.0   5734.0    6320.0  221.0   \n",
       "1  2017-09   Alaska    209.0             2.0   2320.0    2930.0  219.0   \n",
       "2  2017-09  Arizona   5069.0           382.0  11063.0    7946.0  920.0   \n",
       "\n",
       "   multiple  admin  prepawn_handgun  ...  returned_other  rentals_handgun  \\\n",
       "0       317    0.0             15.0  ...             0.0              0.0   \n",
       "1       160    0.0              5.0  ...             0.0              0.0   \n",
       "2       631    0.0             13.0  ...             0.0              0.0   \n",
       "\n",
       "   rentals_long_gun  private_sale_handgun  private_sale_long_gun  \\\n",
       "0               0.0                   9.0                   16.0   \n",
       "1               0.0                  17.0                   24.0   \n",
       "2               0.0                  38.0                   12.0   \n",
       "\n",
       "   private_sale_other  return_to_seller_handgun  return_to_seller_long_gun  \\\n",
       "0                 3.0                       0.0                        0.0   \n",
       "1                 1.0                       0.0                        0.0   \n",
       "2                 2.0                       0.0                        0.0   \n",
       "\n",
       "   return_to_seller_other  totals  \n",
       "0                     3.0   32019  \n",
       "1                     0.0    6303  \n",
       "2                     0.0   28394  \n",
       "\n",
       "[3 rows x 27 columns]"
      ]
     },
     "execution_count": 4,
     "metadata": {},
     "output_type": "execute_result"
    }
   ],
   "source": [
    "# get the first 3 lines\n",
    "df_gun.head(3)"
   ]
  },
  {
   "cell_type": "code",
   "execution_count": 5,
   "metadata": {
    "collapsed": true
   },
   "outputs": [
    {
     "name": "stdout",
     "output_type": "stream",
     "text": [
      "<class 'pandas.core.frame.DataFrame'>\n",
      "RangeIndex: 12485 entries, 0 to 12484\n",
      "Data columns (total 27 columns):\n",
      "month                        12485 non-null object\n",
      "state                        12485 non-null object\n",
      "permit                       12461 non-null float64\n",
      "permit_recheck               1100 non-null float64\n",
      "handgun                      12465 non-null float64\n",
      "long_gun                     12466 non-null float64\n",
      "other                        5500 non-null float64\n",
      "multiple                     12485 non-null int64\n",
      "admin                        12462 non-null float64\n",
      "prepawn_handgun              10542 non-null float64\n",
      "prepawn_long_gun             10540 non-null float64\n",
      "prepawn_other                5115 non-null float64\n",
      "redemption_handgun           10545 non-null float64\n",
      "redemption_long_gun          10544 non-null float64\n",
      "redemption_other             5115 non-null float64\n",
      "returned_handgun             2200 non-null float64\n",
      "returned_long_gun            2145 non-null float64\n",
      "returned_other               1815 non-null float64\n",
      "rentals_handgun              990 non-null float64\n",
      "rentals_long_gun             825 non-null float64\n",
      "private_sale_handgun         2750 non-null float64\n",
      "private_sale_long_gun        2750 non-null float64\n",
      "private_sale_other           2750 non-null float64\n",
      "return_to_seller_handgun     2475 non-null float64\n",
      "return_to_seller_long_gun    2750 non-null float64\n",
      "return_to_seller_other       2255 non-null float64\n",
      "totals                       12485 non-null int64\n",
      "dtypes: float64(23), int64(2), object(2)\n",
      "memory usage: 2.6+ MB\n"
     ]
    }
   ],
   "source": [
    "# get the dataset information and data types\n",
    "df_gun.info()"
   ]
  },
  {
   "cell_type": "markdown",
   "metadata": {},
   "source": [
    "### Data Cleaning (working with datatypes, nulls, and duplicates)\n",
    "\n",
    "In this section of the project we will clean the data by working with:\n",
    "* different data types;\n",
    "* null (NaN) values;\n",
    "* duplicated rows\n",
    "\n",
    "Currently, we see that there are many null values that require cleaning or filling, and potentially some duplicated rows."
   ]
  },
  {
   "cell_type": "code",
   "execution_count": 6,
   "metadata": {},
   "outputs": [
    {
     "data": {
      "text/plain": [
       "0"
      ]
     },
     "execution_count": 6,
     "metadata": {},
     "output_type": "execute_result"
    }
   ],
   "source": [
    "# get the duplicates from the gun database\n",
    "sum(df_gun.duplicated())"
   ]
  },
  {
   "cell_type": "markdown",
   "metadata": {},
   "source": [
    "There are no duplicated rows for the gun database, so no further action is needed."
   ]
  },
  {
   "cell_type": "code",
   "execution_count": 7,
   "metadata": {
    "collapsed": true
   },
   "outputs": [
    {
     "data": {
      "text/plain": [
       "month                            0\n",
       "state                            0\n",
       "permit                          24\n",
       "permit_recheck               11385\n",
       "handgun                         20\n",
       "long_gun                        19\n",
       "other                         6985\n",
       "multiple                         0\n",
       "admin                           23\n",
       "prepawn_handgun               1943\n",
       "prepawn_long_gun              1945\n",
       "prepawn_other                 7370\n",
       "redemption_handgun            1940\n",
       "redemption_long_gun           1941\n",
       "redemption_other              7370\n",
       "returned_handgun             10285\n",
       "returned_long_gun            10340\n",
       "returned_other               10670\n",
       "rentals_handgun              11495\n",
       "rentals_long_gun             11660\n",
       "private_sale_handgun          9735\n",
       "private_sale_long_gun         9735\n",
       "private_sale_other            9735\n",
       "return_to_seller_handgun     10010\n",
       "return_to_seller_long_gun     9735\n",
       "return_to_seller_other       10230\n",
       "totals                           0\n",
       "dtype: int64"
      ]
     },
     "execution_count": 7,
     "metadata": {},
     "output_type": "execute_result"
    }
   ],
   "source": [
    "# check the NaN values\n",
    "df_gun.isnull().sum()"
   ]
  },
  {
   "cell_type": "markdown",
   "metadata": {},
   "source": [
    "No NaN values were spotted in the non-numeric rows (month / state), so we can surely replace all null values in the database with 0."
   ]
  },
  {
   "cell_type": "code",
   "execution_count": 8,
   "metadata": {},
   "outputs": [],
   "source": [
    "# replace NaN values with 0.\n",
    "df_gun.fillna(0, inplace=True)"
   ]
  },
  {
   "cell_type": "code",
   "execution_count": 9,
   "metadata": {},
   "outputs": [
    {
     "data": {
      "text/plain": [
       "0"
      ]
     },
     "execution_count": 9,
     "metadata": {},
     "output_type": "execute_result"
    }
   ],
   "source": [
    "# check if there are any NaN values left\n",
    "df_gun.isnull().sum().sum()"
   ]
  },
  {
   "cell_type": "markdown",
   "metadata": {},
   "source": [
    "Since the datatype of the \"month\" column shows \"object\", I would like to learn more about its datatype."
   ]
  },
  {
   "cell_type": "code",
   "execution_count": 10,
   "metadata": {},
   "outputs": [
    {
     "data": {
      "text/plain": [
       "str"
      ]
     },
     "execution_count": 10,
     "metadata": {},
     "output_type": "execute_result"
    }
   ],
   "source": [
    "# get the \"month\" datatype\n",
    "type(df_gun.month[0])"
   ]
  },
  {
   "cell_type": "code",
   "execution_count": 11,
   "metadata": {},
   "outputs": [],
   "source": [
    "# Now I have to convert the data into date format (YYYY-MM-DD)\n",
    "df_gun.month = pd.to_datetime(df_gun['month'])"
   ]
  },
  {
   "cell_type": "code",
   "execution_count": 12,
   "metadata": {},
   "outputs": [
    {
     "data": {
      "text/html": [
       "<div>\n",
       "<style scoped>\n",
       "    .dataframe tbody tr th:only-of-type {\n",
       "        vertical-align: middle;\n",
       "    }\n",
       "\n",
       "    .dataframe tbody tr th {\n",
       "        vertical-align: top;\n",
       "    }\n",
       "\n",
       "    .dataframe thead th {\n",
       "        text-align: right;\n",
       "    }\n",
       "</style>\n",
       "<table border=\"1\" class=\"dataframe\">\n",
       "  <thead>\n",
       "    <tr style=\"text-align: right;\">\n",
       "      <th></th>\n",
       "      <th>month</th>\n",
       "      <th>state</th>\n",
       "      <th>permit</th>\n",
       "      <th>permit_recheck</th>\n",
       "      <th>handgun</th>\n",
       "      <th>long_gun</th>\n",
       "      <th>other</th>\n",
       "      <th>multiple</th>\n",
       "      <th>admin</th>\n",
       "      <th>prepawn_handgun</th>\n",
       "      <th>...</th>\n",
       "      <th>returned_other</th>\n",
       "      <th>rentals_handgun</th>\n",
       "      <th>rentals_long_gun</th>\n",
       "      <th>private_sale_handgun</th>\n",
       "      <th>private_sale_long_gun</th>\n",
       "      <th>private_sale_other</th>\n",
       "      <th>return_to_seller_handgun</th>\n",
       "      <th>return_to_seller_long_gun</th>\n",
       "      <th>return_to_seller_other</th>\n",
       "      <th>totals</th>\n",
       "    </tr>\n",
       "  </thead>\n",
       "  <tbody>\n",
       "    <tr>\n",
       "      <td>0</td>\n",
       "      <td>2017-09-01</td>\n",
       "      <td>Alabama</td>\n",
       "      <td>16717.0</td>\n",
       "      <td>0.0</td>\n",
       "      <td>5734.0</td>\n",
       "      <td>6320.0</td>\n",
       "      <td>221.0</td>\n",
       "      <td>317</td>\n",
       "      <td>0.0</td>\n",
       "      <td>15.0</td>\n",
       "      <td>...</td>\n",
       "      <td>0.0</td>\n",
       "      <td>0.0</td>\n",
       "      <td>0.0</td>\n",
       "      <td>9.0</td>\n",
       "      <td>16.0</td>\n",
       "      <td>3.0</td>\n",
       "      <td>0.0</td>\n",
       "      <td>0.0</td>\n",
       "      <td>3.0</td>\n",
       "      <td>32019</td>\n",
       "    </tr>\n",
       "  </tbody>\n",
       "</table>\n",
       "<p>1 rows × 27 columns</p>\n",
       "</div>"
      ],
      "text/plain": [
       "       month    state   permit  permit_recheck  handgun  long_gun  other  \\\n",
       "0 2017-09-01  Alabama  16717.0             0.0   5734.0    6320.0  221.0   \n",
       "\n",
       "   multiple  admin  prepawn_handgun  ...  returned_other  rentals_handgun  \\\n",
       "0       317    0.0             15.0  ...             0.0              0.0   \n",
       "\n",
       "   rentals_long_gun  private_sale_handgun  private_sale_long_gun  \\\n",
       "0               0.0                   9.0                   16.0   \n",
       "\n",
       "   private_sale_other  return_to_seller_handgun  return_to_seller_long_gun  \\\n",
       "0                 3.0                       0.0                        0.0   \n",
       "\n",
       "   return_to_seller_other  totals  \n",
       "0                     3.0   32019  \n",
       "\n",
       "[1 rows x 27 columns]"
      ]
     },
     "execution_count": 12,
     "metadata": {},
     "output_type": "execute_result"
    }
   ],
   "source": [
    "# Check the month column now\n",
    "df_gun.head(1)"
   ]
  },
  {
   "cell_type": "markdown",
   "metadata": {},
   "source": [
    "Since the datatype of the \"state\" column shows \"object\", I would like to learn more about its datatype."
   ]
  },
  {
   "cell_type": "code",
   "execution_count": 13,
   "metadata": {},
   "outputs": [
    {
     "data": {
      "text/plain": [
       "str"
      ]
     },
     "execution_count": 13,
     "metadata": {},
     "output_type": "execute_result"
    }
   ],
   "source": [
    "# get the \"state\" datatype\n",
    "type(df_gun.state[0])"
   ]
  },
  {
   "cell_type": "markdown",
   "metadata": {},
   "source": [
    "Good! The string format is ok for us.\n",
    "\n",
    "Now, I noticed that the column 'Totals' is the sum of all preceding columns (starting from 'Permit' and ending with 'Return_to_Seller_Other', but I would like to check that it is the case for every row."
   ]
  },
  {
   "cell_type": "code",
   "execution_count": 16,
   "metadata": {
    "collapsed": true
   },
   "outputs": [
    {
     "data": {
      "text/plain": [
       "['permit',\n",
       " 'permit_recheck',\n",
       " 'handgun',\n",
       " 'long_gun',\n",
       " 'other',\n",
       " 'multiple',\n",
       " 'admin',\n",
       " 'prepawn_handgun',\n",
       " 'prepawn_long_gun',\n",
       " 'prepawn_other',\n",
       " 'redemption_handgun',\n",
       " 'redemption_long_gun',\n",
       " 'redemption_other',\n",
       " 'returned_handgun',\n",
       " 'returned_long_gun',\n",
       " 'returned_other',\n",
       " 'rentals_handgun',\n",
       " 'rentals_long_gun',\n",
       " 'private_sale_handgun',\n",
       " 'private_sale_long_gun',\n",
       " 'private_sale_other',\n",
       " 'return_to_seller_handgun',\n",
       " 'return_to_seller_long_gun',\n",
       " 'return_to_seller_other']"
      ]
     },
     "execution_count": 16,
     "metadata": {},
     "output_type": "execute_result"
    }
   ],
   "source": [
    "# Create a list of columns that includes all numeric columns, except 'Totals'\n",
    "col_list = list(df_gun)\n",
    "col_list.remove('month')\n",
    "col_list.remove('state')\n",
    "col_list.remove('totals')\n",
    "col_list"
   ]
  },
  {
   "cell_type": "code",
   "execution_count": 17,
   "metadata": {},
   "outputs": [
    {
     "data": {
      "text/plain": [
       "True"
      ]
     },
     "execution_count": 17,
     "metadata": {},
     "output_type": "execute_result"
    }
   ],
   "source": [
    "# Now, I can check whether 'Totals' is really the sum of all the other numeric columns\n",
    "(df_gun.totals == df_gun[col_list].sum(axis=1)).all()"
   ]
  },
  {
   "cell_type": "markdown",
   "metadata": {},
   "source": [
    "Great! Now I would like to bring the 'totals' column to the Front part of the table because I will work with total numbers with greater scrutiny."
   ]
  },
  {
   "cell_type": "code",
   "execution_count": 19,
   "metadata": {},
   "outputs": [
    {
     "data": {
      "text/html": [
       "<div>\n",
       "<style scoped>\n",
       "    .dataframe tbody tr th:only-of-type {\n",
       "        vertical-align: middle;\n",
       "    }\n",
       "\n",
       "    .dataframe tbody tr th {\n",
       "        vertical-align: top;\n",
       "    }\n",
       "\n",
       "    .dataframe thead th {\n",
       "        text-align: right;\n",
       "    }\n",
       "</style>\n",
       "<table border=\"1\" class=\"dataframe\">\n",
       "  <thead>\n",
       "    <tr style=\"text-align: right;\">\n",
       "      <th></th>\n",
       "      <th>month</th>\n",
       "      <th>state</th>\n",
       "      <th>totals</th>\n",
       "      <th>permit</th>\n",
       "      <th>permit_recheck</th>\n",
       "      <th>handgun</th>\n",
       "      <th>long_gun</th>\n",
       "      <th>other</th>\n",
       "      <th>multiple</th>\n",
       "      <th>admin</th>\n",
       "      <th>...</th>\n",
       "      <th>returned_long_gun</th>\n",
       "      <th>returned_other</th>\n",
       "      <th>rentals_handgun</th>\n",
       "      <th>rentals_long_gun</th>\n",
       "      <th>private_sale_handgun</th>\n",
       "      <th>private_sale_long_gun</th>\n",
       "      <th>private_sale_other</th>\n",
       "      <th>return_to_seller_handgun</th>\n",
       "      <th>return_to_seller_long_gun</th>\n",
       "      <th>return_to_seller_other</th>\n",
       "    </tr>\n",
       "  </thead>\n",
       "  <tbody>\n",
       "    <tr>\n",
       "      <td>0</td>\n",
       "      <td>2017-09-01</td>\n",
       "      <td>Alabama</td>\n",
       "      <td>32019</td>\n",
       "      <td>16717.0</td>\n",
       "      <td>0.0</td>\n",
       "      <td>5734.0</td>\n",
       "      <td>6320.0</td>\n",
       "      <td>221.0</td>\n",
       "      <td>317</td>\n",
       "      <td>0.0</td>\n",
       "      <td>...</td>\n",
       "      <td>0.0</td>\n",
       "      <td>0.0</td>\n",
       "      <td>0.0</td>\n",
       "      <td>0.0</td>\n",
       "      <td>9.0</td>\n",
       "      <td>16.0</td>\n",
       "      <td>3.0</td>\n",
       "      <td>0.0</td>\n",
       "      <td>0.0</td>\n",
       "      <td>3.0</td>\n",
       "    </tr>\n",
       "  </tbody>\n",
       "</table>\n",
       "<p>1 rows × 27 columns</p>\n",
       "</div>"
      ],
      "text/plain": [
       "       month    state  totals   permit  permit_recheck  handgun  long_gun  \\\n",
       "0 2017-09-01  Alabama   32019  16717.0             0.0   5734.0    6320.0   \n",
       "\n",
       "   other  multiple  admin  ...  returned_long_gun  returned_other  \\\n",
       "0  221.0       317    0.0  ...                0.0             0.0   \n",
       "\n",
       "   rentals_handgun  rentals_long_gun  private_sale_handgun  \\\n",
       "0              0.0               0.0                   9.0   \n",
       "\n",
       "   private_sale_long_gun  private_sale_other  return_to_seller_handgun  \\\n",
       "0                   16.0                 3.0                       0.0   \n",
       "\n",
       "   return_to_seller_long_gun  return_to_seller_other  \n",
       "0                        0.0                     3.0  \n",
       "\n",
       "[1 rows x 27 columns]"
      ]
     },
     "execution_count": 19,
     "metadata": {},
     "output_type": "execute_result"
    }
   ],
   "source": [
    "# bring 'totals' to the beginning of the dataset\n",
    "df_gun = df_gun[['month', 'state', 'totals', 'permit', 'permit_recheck', 'handgun', 'long_gun',\n",
    "       'other', 'multiple', 'admin', 'prepawn_handgun', 'prepawn_long_gun',\n",
    "       'prepawn_other', 'redemption_handgun', 'redemption_long_gun',\n",
    "       'redemption_other', 'returned_handgun', 'returned_long_gun',\n",
    "       'returned_other', 'rentals_handgun', 'rentals_long_gun',\n",
    "       'private_sale_handgun', 'private_sale_long_gun', 'private_sale_other',\n",
    "       'return_to_seller_handgun', 'return_to_seller_long_gun',\n",
    "       'return_to_seller_other']]\n",
    "df_gun.head(1)"
   ]
  },
  {
   "cell_type": "markdown",
   "metadata": {},
   "source": [
    "Now, I can see that all of the numeric columns (except 'multiple' and 'totals') are floats. I also noticed that all the values have \".0\" type of float, meaning that we can easily convert all those columns to int."
   ]
  },
  {
   "cell_type": "code",
   "execution_count": 20,
   "metadata": {},
   "outputs": [],
   "source": [
    "# create a list of numeric columns having the float datatype\n",
    "float_columns = ['permit', 'permit_recheck', 'handgun', 'long_gun',\n",
    "       'other', 'admin', 'prepawn_handgun', 'prepawn_long_gun',\n",
    "       'prepawn_other', 'redemption_handgun', 'redemption_long_gun',\n",
    "       'redemption_other', 'returned_handgun', 'returned_long_gun',\n",
    "       'returned_other', 'rentals_handgun', 'rentals_long_gun',\n",
    "       'private_sale_handgun', 'private_sale_long_gun', 'private_sale_other',\n",
    "       'return_to_seller_handgun', 'return_to_seller_long_gun',\n",
    "       'return_to_seller_other']\n",
    "\n",
    "# convert floats into ints\n",
    "for c in float_columns:\n",
    "    df_gun[c] = df_gun[c].astype(int)"
   ]
  },
  {
   "cell_type": "code",
   "execution_count": 21,
   "metadata": {
    "collapsed": true
   },
   "outputs": [
    {
     "name": "stdout",
     "output_type": "stream",
     "text": [
      "<class 'pandas.core.frame.DataFrame'>\n",
      "RangeIndex: 12485 entries, 0 to 12484\n",
      "Data columns (total 27 columns):\n",
      "month                        12485 non-null datetime64[ns]\n",
      "state                        12485 non-null object\n",
      "totals                       12485 non-null int64\n",
      "permit                       12485 non-null int64\n",
      "permit_recheck               12485 non-null int64\n",
      "handgun                      12485 non-null int64\n",
      "long_gun                     12485 non-null int64\n",
      "other                        12485 non-null int64\n",
      "multiple                     12485 non-null int64\n",
      "admin                        12485 non-null int64\n",
      "prepawn_handgun              12485 non-null int64\n",
      "prepawn_long_gun             12485 non-null int64\n",
      "prepawn_other                12485 non-null int64\n",
      "redemption_handgun           12485 non-null int64\n",
      "redemption_long_gun          12485 non-null int64\n",
      "redemption_other             12485 non-null int64\n",
      "returned_handgun             12485 non-null int64\n",
      "returned_long_gun            12485 non-null int64\n",
      "returned_other               12485 non-null int64\n",
      "rentals_handgun              12485 non-null int64\n",
      "rentals_long_gun             12485 non-null int64\n",
      "private_sale_handgun         12485 non-null int64\n",
      "private_sale_long_gun        12485 non-null int64\n",
      "private_sale_other           12485 non-null int64\n",
      "return_to_seller_handgun     12485 non-null int64\n",
      "return_to_seller_long_gun    12485 non-null int64\n",
      "return_to_seller_other       12485 non-null int64\n",
      "dtypes: datetime64[ns](1), int64(25), object(1)\n",
      "memory usage: 2.6+ MB\n"
     ]
    }
   ],
   "source": [
    "# verify that we have ints instead of floats\n",
    "df_gun.info()"
   ]
  },
  {
   "cell_type": "markdown",
   "metadata": {},
   "source": [
    "Now, I would like to create additional columns 'year' and 'quarter' to be able to better compare it by grouping it."
   ]
  },
  {
   "cell_type": "code",
   "execution_count": 22,
   "metadata": {},
   "outputs": [
    {
     "data": {
      "text/html": [
       "<div>\n",
       "<style scoped>\n",
       "    .dataframe tbody tr th:only-of-type {\n",
       "        vertical-align: middle;\n",
       "    }\n",
       "\n",
       "    .dataframe tbody tr th {\n",
       "        vertical-align: top;\n",
       "    }\n",
       "\n",
       "    .dataframe thead th {\n",
       "        text-align: right;\n",
       "    }\n",
       "</style>\n",
       "<table border=\"1\" class=\"dataframe\">\n",
       "  <thead>\n",
       "    <tr style=\"text-align: right;\">\n",
       "      <th></th>\n",
       "      <th>month</th>\n",
       "      <th>state</th>\n",
       "      <th>totals</th>\n",
       "      <th>permit</th>\n",
       "      <th>permit_recheck</th>\n",
       "      <th>handgun</th>\n",
       "      <th>long_gun</th>\n",
       "      <th>other</th>\n",
       "      <th>multiple</th>\n",
       "      <th>admin</th>\n",
       "      <th>...</th>\n",
       "      <th>rentals_handgun</th>\n",
       "      <th>rentals_long_gun</th>\n",
       "      <th>private_sale_handgun</th>\n",
       "      <th>private_sale_long_gun</th>\n",
       "      <th>private_sale_other</th>\n",
       "      <th>return_to_seller_handgun</th>\n",
       "      <th>return_to_seller_long_gun</th>\n",
       "      <th>return_to_seller_other</th>\n",
       "      <th>year</th>\n",
       "      <th>quarter</th>\n",
       "    </tr>\n",
       "  </thead>\n",
       "  <tbody>\n",
       "    <tr>\n",
       "      <td>0</td>\n",
       "      <td>2017-09-01</td>\n",
       "      <td>Alabama</td>\n",
       "      <td>32019</td>\n",
       "      <td>16717</td>\n",
       "      <td>0</td>\n",
       "      <td>5734</td>\n",
       "      <td>6320</td>\n",
       "      <td>221</td>\n",
       "      <td>317</td>\n",
       "      <td>0</td>\n",
       "      <td>...</td>\n",
       "      <td>0</td>\n",
       "      <td>0</td>\n",
       "      <td>9</td>\n",
       "      <td>16</td>\n",
       "      <td>3</td>\n",
       "      <td>0</td>\n",
       "      <td>0</td>\n",
       "      <td>3</td>\n",
       "      <td>2017</td>\n",
       "      <td>2017Q3</td>\n",
       "    </tr>\n",
       "  </tbody>\n",
       "</table>\n",
       "<p>1 rows × 29 columns</p>\n",
       "</div>"
      ],
      "text/plain": [
       "       month    state  totals  permit  permit_recheck  handgun  long_gun  \\\n",
       "0 2017-09-01  Alabama   32019   16717               0     5734      6320   \n",
       "\n",
       "   other  multiple  admin  ...  rentals_handgun  rentals_long_gun  \\\n",
       "0    221       317      0  ...                0                 0   \n",
       "\n",
       "   private_sale_handgun  private_sale_long_gun  private_sale_other  \\\n",
       "0                     9                     16                   3   \n",
       "\n",
       "   return_to_seller_handgun  return_to_seller_long_gun  \\\n",
       "0                         0                          0   \n",
       "\n",
       "   return_to_seller_other  year  quarter  \n",
       "0                       3  2017   2017Q3  \n",
       "\n",
       "[1 rows x 29 columns]"
      ]
     },
     "execution_count": 22,
     "metadata": {},
     "output_type": "execute_result"
    }
   ],
   "source": [
    "# add columns 'year' and 'quarter'\n",
    "df_gun['year'] = df_gun.month.dt.to_period(\"Y\")\n",
    "df_gun['quarter'] = df_gun.month.dt.to_period(\"Q\")\n",
    "\n",
    "# check the header\n",
    "df_gun.head(1)"
   ]
  },
  {
   "cell_type": "code",
   "execution_count": 30,
   "metadata": {},
   "outputs": [
    {
     "data": {
      "text/html": [
       "<div>\n",
       "<style scoped>\n",
       "    .dataframe tbody tr th:only-of-type {\n",
       "        vertical-align: middle;\n",
       "    }\n",
       "\n",
       "    .dataframe tbody tr th {\n",
       "        vertical-align: top;\n",
       "    }\n",
       "\n",
       "    .dataframe thead th {\n",
       "        text-align: right;\n",
       "    }\n",
       "</style>\n",
       "<table border=\"1\" class=\"dataframe\">\n",
       "  <thead>\n",
       "    <tr style=\"text-align: right;\">\n",
       "      <th></th>\n",
       "      <th>year</th>\n",
       "      <th>quarter</th>\n",
       "      <th>month</th>\n",
       "      <th>state</th>\n",
       "      <th>totals</th>\n",
       "      <th>permit</th>\n",
       "      <th>permit_recheck</th>\n",
       "      <th>handgun</th>\n",
       "      <th>long_gun</th>\n",
       "      <th>other</th>\n",
       "      <th>...</th>\n",
       "      <th>private_sale_handgun</th>\n",
       "      <th>private_sale_long_gun</th>\n",
       "      <th>private_sale_other</th>\n",
       "      <th>return_to_seller_handgun</th>\n",
       "      <th>return_to_seller_long_gun</th>\n",
       "      <th>return_to_seller_other</th>\n",
       "      <th>total_permit</th>\n",
       "      <th>total_handgun</th>\n",
       "      <th>total_long_gun</th>\n",
       "      <th>total_other</th>\n",
       "    </tr>\n",
       "  </thead>\n",
       "  <tbody>\n",
       "    <tr>\n",
       "      <td>0</td>\n",
       "      <td>2017</td>\n",
       "      <td>2017Q3</td>\n",
       "      <td>2017-09-01</td>\n",
       "      <td>Alabama</td>\n",
       "      <td>32019</td>\n",
       "      <td>16717</td>\n",
       "      <td>0</td>\n",
       "      <td>5734</td>\n",
       "      <td>6320</td>\n",
       "      <td>221</td>\n",
       "      <td>...</td>\n",
       "      <td>9</td>\n",
       "      <td>16</td>\n",
       "      <td>3</td>\n",
       "      <td>0</td>\n",
       "      <td>0</td>\n",
       "      <td>3</td>\n",
       "      <td>16717</td>\n",
       "      <td>7136</td>\n",
       "      <td>7619</td>\n",
       "      <td>230</td>\n",
       "    </tr>\n",
       "  </tbody>\n",
       "</table>\n",
       "<p>1 rows × 33 columns</p>\n",
       "</div>"
      ],
      "text/plain": [
       "   year quarter      month    state  totals  permit  permit_recheck  handgun  \\\n",
       "0  2017  2017Q3 2017-09-01  Alabama   32019   16717               0     5734   \n",
       "\n",
       "   long_gun  other  ...  private_sale_handgun  private_sale_long_gun  \\\n",
       "0      6320    221  ...                     9                     16   \n",
       "\n",
       "   private_sale_other  return_to_seller_handgun  return_to_seller_long_gun  \\\n",
       "0                   3                         0                          0   \n",
       "\n",
       "   return_to_seller_other  total_permit  total_handgun  total_long_gun  \\\n",
       "0                       3         16717           7136            7619   \n",
       "\n",
       "   total_other  \n",
       "0          230  \n",
       "\n",
       "[1 rows x 33 columns]"
      ]
     },
     "execution_count": 30,
     "metadata": {},
     "output_type": "execute_result"
    }
   ],
   "source": [
    "# add them to the beginning of the dataframe\n",
    "df_gun = df_gun[['year','quarter', 'month', 'state', 'totals', 'permit', 'permit_recheck', 'handgun',\n",
    "       'long_gun', 'other', 'multiple', 'admin', 'prepawn_handgun',\n",
    "       'prepawn_long_gun', 'prepawn_other', 'redemption_handgun',\n",
    "       'redemption_long_gun', 'redemption_other', 'returned_handgun',\n",
    "       'returned_long_gun', 'returned_other', 'rentals_handgun',\n",
    "       'rentals_long_gun', 'private_sale_handgun', 'private_sale_long_gun',\n",
    "       'private_sale_other', 'return_to_seller_handgun',\n",
    "       'return_to_seller_long_gun', 'return_to_seller_other',  'total_permit', 'total_handgun', 'total_long_gun',\n",
    "       'total_other']]\n",
    "df_gun.head(1)"
   ]
  },
  {
   "cell_type": "markdown",
   "metadata": {},
   "source": [
    "I noticed that I can group multiple columns into several subgroups by gun type transaction: long gun, handgun, or other**\n",
    "\n",
    "_( ** Refers to frames, receivers, and other firearms that are neither handguns nor long guns (rifles or shotguns), such as firearms having a pistol grip that expel a shotgun shell, or National Firearms Act firearms, including silencers)_"
   ]
  },
  {
   "cell_type": "code",
   "execution_count": 24,
   "metadata": {},
   "outputs": [
    {
     "name": "stdout",
     "output_type": "stream",
     "text": [
      "['handgun', 'prepawn_handgun', 'redemption_handgun', 'returned_handgun', 'rentals_handgun', 'private_sale_handgun', 'return_to_seller_handgun']\n"
     ]
    }
   ],
   "source": [
    "# Create a list for columns related to handguns\n",
    "handgun_cols = [col for col in df_gun.columns if 'handgun' in col]\n",
    "print(handgun_cols)"
   ]
  },
  {
   "cell_type": "code",
   "execution_count": 25,
   "metadata": {},
   "outputs": [
    {
     "name": "stdout",
     "output_type": "stream",
     "text": [
      "['long_gun', 'prepawn_long_gun', 'redemption_long_gun', 'returned_long_gun', 'rentals_long_gun', 'private_sale_long_gun', 'return_to_seller_long_gun']\n"
     ]
    }
   ],
   "source": [
    "# Create a list for columns related to long guns\n",
    "long_gun_cols = [col for col in df_gun.columns if 'long_gun' in col]\n",
    "print(long_gun_cols)"
   ]
  },
  {
   "cell_type": "code",
   "execution_count": 26,
   "metadata": {},
   "outputs": [
    {
     "name": "stdout",
     "output_type": "stream",
     "text": [
      "['other', 'prepawn_other', 'redemption_other', 'returned_other', 'private_sale_other', 'return_to_seller_other']\n"
     ]
    }
   ],
   "source": [
    "# Create a list for columns related to other types of weapons\n",
    "other_cols = [col for col in df_gun.columns if 'other' in col]\n",
    "print(other_cols)"
   ]
  },
  {
   "cell_type": "code",
   "execution_count": 27,
   "metadata": {},
   "outputs": [
    {
     "name": "stdout",
     "output_type": "stream",
     "text": [
      "['permit', 'permit_recheck']\n"
     ]
    }
   ],
   "source": [
    "# Create a list for columns related to permit-related actions\n",
    "permit_cols = [col for col in df_gun.columns if 'permit' in col]\n",
    "print(permit_cols)"
   ]
  },
  {
   "cell_type": "code",
   "execution_count": 31,
   "metadata": {},
   "outputs": [
    {
     "data": {
      "text/html": [
       "<div>\n",
       "<style scoped>\n",
       "    .dataframe tbody tr th:only-of-type {\n",
       "        vertical-align: middle;\n",
       "    }\n",
       "\n",
       "    .dataframe tbody tr th {\n",
       "        vertical-align: top;\n",
       "    }\n",
       "\n",
       "    .dataframe thead th {\n",
       "        text-align: right;\n",
       "    }\n",
       "</style>\n",
       "<table border=\"1\" class=\"dataframe\">\n",
       "  <thead>\n",
       "    <tr style=\"text-align: right;\">\n",
       "      <th></th>\n",
       "      <th>year</th>\n",
       "      <th>quarter</th>\n",
       "      <th>month</th>\n",
       "      <th>state</th>\n",
       "      <th>totals</th>\n",
       "      <th>permit</th>\n",
       "      <th>permit_recheck</th>\n",
       "      <th>handgun</th>\n",
       "      <th>long_gun</th>\n",
       "      <th>other</th>\n",
       "      <th>...</th>\n",
       "      <th>private_sale_handgun</th>\n",
       "      <th>private_sale_long_gun</th>\n",
       "      <th>private_sale_other</th>\n",
       "      <th>return_to_seller_handgun</th>\n",
       "      <th>return_to_seller_long_gun</th>\n",
       "      <th>return_to_seller_other</th>\n",
       "      <th>total_permit</th>\n",
       "      <th>total_handgun</th>\n",
       "      <th>total_long_gun</th>\n",
       "      <th>total_other</th>\n",
       "    </tr>\n",
       "  </thead>\n",
       "  <tbody>\n",
       "    <tr>\n",
       "      <td>0</td>\n",
       "      <td>2017</td>\n",
       "      <td>2017Q3</td>\n",
       "      <td>2017-09-01</td>\n",
       "      <td>Alabama</td>\n",
       "      <td>32019</td>\n",
       "      <td>16717</td>\n",
       "      <td>0</td>\n",
       "      <td>5734</td>\n",
       "      <td>6320</td>\n",
       "      <td>221</td>\n",
       "      <td>...</td>\n",
       "      <td>9</td>\n",
       "      <td>16</td>\n",
       "      <td>3</td>\n",
       "      <td>0</td>\n",
       "      <td>0</td>\n",
       "      <td>3</td>\n",
       "      <td>16717</td>\n",
       "      <td>7136</td>\n",
       "      <td>7619</td>\n",
       "      <td>230</td>\n",
       "    </tr>\n",
       "  </tbody>\n",
       "</table>\n",
       "<p>1 rows × 33 columns</p>\n",
       "</div>"
      ],
      "text/plain": [
       "   year quarter      month    state  totals  permit  permit_recheck  handgun  \\\n",
       "0  2017  2017Q3 2017-09-01  Alabama   32019   16717               0     5734   \n",
       "\n",
       "   long_gun  other  ...  private_sale_handgun  private_sale_long_gun  \\\n",
       "0      6320    221  ...                     9                     16   \n",
       "\n",
       "   private_sale_other  return_to_seller_handgun  return_to_seller_long_gun  \\\n",
       "0                   3                         0                          0   \n",
       "\n",
       "   return_to_seller_other  total_permit  total_handgun  total_long_gun  \\\n",
       "0                       3         16717           7136            7619   \n",
       "\n",
       "   total_other  \n",
       "0          230  \n",
       "\n",
       "[1 rows x 33 columns]"
      ]
     },
     "execution_count": 31,
     "metadata": {},
     "output_type": "execute_result"
    }
   ],
   "source": [
    "# Create additional columns with totals\n",
    "df_gun['total_permit'] = df_gun[permit_cols].sum(axis=1)\n",
    "df_gun['total_handgun'] = df_gun[handgun_cols].sum(axis=1)\n",
    "df_gun['total_long_gun'] = df_gun[long_gun_cols].sum(axis=1)\n",
    "df_gun['total_other'] = df_gun[other_cols].sum(axis=1)\n",
    "\n",
    "# check that they are successfully incorporated\n",
    "df_gun.head(1)"
   ]
  },
  {
   "cell_type": "markdown",
   "metadata": {},
   "source": [
    "<a id='eda'></a>\n",
    "## Exploratory Data Analysis\n",
    "\n",
    "\n",
    "### Question 1: How the did the split by gun type change for the state with the highest number of background checks in 1998-2017?"
   ]
  },
  {
   "cell_type": "markdown",
   "metadata": {},
   "source": [
    "Let's group our data by background checks throughout the whole dataframe to find out which state had the most of actions.\n",
    "I will compare the first and the last year with full data, which is 1999 and 2016."
   ]
  },
  {
   "cell_type": "code",
   "execution_count": 38,
   "metadata": {},
   "outputs": [
    {
     "data": {
      "text/plain": [
       "'Kentucky'"
      ]
     },
     "execution_count": 38,
     "metadata": {},
     "output_type": "execute_result"
    }
   ],
   "source": [
    "idx = df_gun.groupby('state')['total_permit'].sum().idxmax()\n",
    "idx"
   ]
  },
  {
   "cell_type": "markdown",
   "metadata": {},
   "source": [
    "Now, I have to filter the original dataframe with Kentucky data."
   ]
  },
  {
   "cell_type": "code",
   "execution_count": 90,
   "metadata": {},
   "outputs": [
    {
     "data": {
      "text/plain": [
       "array(['Kentucky'], dtype=object)"
      ]
     },
     "execution_count": 90,
     "metadata": {},
     "output_type": "execute_result"
    }
   ],
   "source": [
    "# query Kentucky data\n",
    "df_gun_ky = df_gun.query('state == \"Kentucky\"')\n",
    "\n",
    "# check that we only have Kentucky now\n",
    "df_gun_ky.state.unique()"
   ]
  },
  {
   "cell_type": "code",
   "execution_count": 44,
   "metadata": {},
   "outputs": [
    {
     "data": {
      "text/plain": [
       "['total_long_gun', 'multiple', 'total_handgun', 'total_other']"
      ]
     },
     "execution_count": 44,
     "metadata": {},
     "output_type": "execute_result"
    }
   ],
   "source": [
    "# We also need a column list for gun-related items only\n",
    "total_guns = ['total_long_gun','multiple','total_handgun','total_other']\n",
    "total_guns"
   ]
  },
  {
   "cell_type": "markdown",
   "metadata": {},
   "source": [
    "Now we need to filter the dataframe by the year 1999 and 2016.\n",
    "\n",
    "In order to properly do this, I will build two pie charts - one for the year 1999, and the other for the year 2016."
   ]
  },
  {
   "cell_type": "code",
   "execution_count": 67,
   "metadata": {},
   "outputs": [
    {
     "data": {
      "text/plain": [
       "<PeriodArray>\n",
       "['1999']\n",
       "Length: 1, dtype: period[A-DEC]"
      ]
     },
     "execution_count": 67,
     "metadata": {},
     "output_type": "execute_result"
    }
   ],
   "source": [
    "# filter the data for 1999\n",
    "df_gun_ky_1999 = df_gun_ky.query('\"1999\" in month')\n",
    "df_gun_ky_1999.year.unique()"
   ]
  },
  {
   "cell_type": "code",
   "execution_count": 85,
   "metadata": {},
   "outputs": [
    {
     "data": {
      "text/plain": [
       "<PeriodArray>\n",
       "['2016']\n",
       "Length: 1, dtype: period[A-DEC]"
      ]
     },
     "execution_count": 85,
     "metadata": {},
     "output_type": "execute_result"
    }
   ],
   "source": [
    "# filter the data for 2016\n",
    "df_gun_ky_2016 = df_gun_ky.query('\"2016\" in month')\n",
    "df_gun_ky_2016.year.unique()"
   ]
  },
  {
   "cell_type": "code",
   "execution_count": 86,
   "metadata": {},
   "outputs": [],
   "source": [
    "# Group the data\n",
    "df_gun_ky_agg_1999 = df_gun_ky_1999[total_guns].sum()\n",
    "df_gun_ky_agg_2016 = df_gun_ky_2016[total_guns].sum()"
   ]
  },
  {
   "cell_type": "code",
   "execution_count": 88,
   "metadata": {},
   "outputs": [],
   "source": [
    "# Prepare the data for more presentable formatting\n",
    "df_gun_ky_agg_1999.rename(index = lambda x: x.replace(\"_\",\" \").title(),inplace=True)\n",
    "df_gun_ky_agg_2016.rename(index = lambda x: x.replace(\"_\",\" \").title(),inplace=True)"
   ]
  },
  {
   "cell_type": "code",
   "execution_count": 144,
   "metadata": {},
   "outputs": [
    {
     "data": {
      "text/plain": [
       "Text(0, 0.5, '')"
      ]
     },
     "execution_count": 144,
     "metadata": {},
     "output_type": "execute_result"
    },
    {
     "data": {
      "image/png": "[encoded data removed]",
      "text/plain": [
       "<Figure size 864x864 with 1 Axes>"
      ]
     },
     "metadata": {},
     "output_type": "display_data"
    }
   ],
   "source": [
    "# build the pie chart for 1999\n",
    "df_gun_ky_agg_1999.T.plot.pie(subplots=True,shadow=True,figsize=(12,12),fontsize=15, explode=(0,0.4,0,0),colors = ['#EC8D67','#1DDEDB','#DE9E1D','#AAEF90'],autopct='%1.1f%%',startangle=90)\n",
    "plt.title('Split of Background Checks by Gun Type, 1999', fontsize=20)\n",
    "plt.ylabel('')"
   ]
  },
  {
   "cell_type": "code",
   "execution_count": 145,
   "metadata": {},
   "outputs": [
    {
     "data": {
      "text/plain": [
       "Text(0, 0.5, '')"
      ]
     },
     "execution_count": 145,
     "metadata": {},
     "output_type": "execute_result"
    },
    {
     "data": {
      "image/png": "[encoded data removed]",
      "text/plain": [
       "<Figure size 864x864 with 1 Axes>"
      ]
     },
     "metadata": {},
     "output_type": "display_data"
    }
   ],
   "source": [
    "# build the pie chart for 2016\n",
    "df_gun_ky_agg_2016.T.plot.pie(subplots=True,shadow=True,figsize=(12,12),fontsize=15, explode=(0,0.4,0,0),colors = ['#EC8D67','#1DDEDB','#DE9E1D','#AAEF90'],autopct='%1.1f%%',startangle=90)\n",
    "plt.title('Split of Background Checks by Gun Type, 2016', fontsize=20)\n",
    "plt.ylabel('')"
   ]
  },
  {
   "cell_type": "markdown",
   "metadata": {},
   "source": [
    "### Question 2: Is there any seasonality in the trend for long gun and handgun background checks in the state of New York in the first decade of the XXI century (2000-2009)?"
   ]
  },
  {
   "cell_type": "markdown",
   "metadata": {},
   "source": [
    "In order to answer this question, we will have to filter our dataframe and group it by certain timestamps."
   ]
  },
  {
   "cell_type": "code",
   "execution_count": 101,
   "metadata": {},
   "outputs": [
    {
     "data": {
      "text/plain": [
       "(array(['New York'], dtype=object), <PeriodArray>\n",
       " ['2009', '2008', '2007', '2006', '2005', '2004', '2003', '2002', '2001',\n",
       "  '2000']\n",
       " Length: 10, dtype: period[A-DEC])"
      ]
     },
     "execution_count": 101,
     "metadata": {},
     "output_type": "execute_result"
    }
   ],
   "source": [
    "# Filter data by the state \"New York\" and within years 2000-2009\n",
    "df_gun_ny = df_gun.query('state == \"New York\"')\n",
    "df_gun_ny = df_gun_ny.query('year >= 2000 & year < 2010')\n",
    "df_gun_ny.state.unique(), df_gun_ny.year.unique()"
   ]
  },
  {
   "cell_type": "code",
   "execution_count": 100,
   "metadata": {},
   "outputs": [
    {
     "data": {
      "text/plain": [
       "<PeriodArray>\n",
       "['2009', '2008', '2007', '2006', '2005', '2004', '2003', '2002', '2001',\n",
       " '2000']\n",
       "Length: 10, dtype: period[A-DEC]"
      ]
     },
     "execution_count": 100,
     "metadata": {},
     "output_type": "execute_result"
    }
   ],
   "source": [
    "# Check the correct filtering\n",
    "df_gun_ny.year.unique()"
   ]
  },
  {
   "cell_type": "markdown",
   "metadata": {},
   "source": [
    "Now let's group our data by month and plot a line chart to take the first look at the trend."
   ]
  },
  {
   "cell_type": "code",
   "execution_count": 147,
   "metadata": {},
   "outputs": [
    {
     "data": {
      "text/plain": [
       "<matplotlib.legend.Legend at 0x1219410d0>"
      ]
     },
     "execution_count": 147,
     "metadata": {},
     "output_type": "execute_result"
    },
    {
     "data": {
      "image/png": "[encoded data removed]",
      "text/plain": [
       "<Figure size 1080x576 with 1 Axes>"
      ]
     },
     "metadata": {
      "needs_background": "light"
     },
     "output_type": "display_data"
    }
   ],
   "source": [
    "df_gun_ny_month = df_gun_ny.groupby('month')['total_long_gun','total_handgun'].sum().plot(figsize=(15,8))\n",
    "plt.xlabel('Year', fontsize=16)\n",
    "plt.ylabel('Number of Background Checks', fontsize=16)\n",
    "plt.title('Number of Monthly Background Checks for Long Guns and Handguns, 2000-2009', fontsize=20)\n",
    "plt.legend(['Long Gun','Handgun'],loc='lower right')"
   ]
  },
  {
   "cell_type": "markdown",
   "metadata": {},
   "source": [
    "Looks like there is no seasonality for Handguns during years. However, we see that there is a very hign cyclicality in the Long Gun trend. On the first sight, it looks like there is a spike in every Q4.\n",
    "Let's try and take a closer look!"
   ]
  },
  {
   "cell_type": "code",
   "execution_count": 148,
   "metadata": {},
   "outputs": [
    {
     "data": {
      "text/plain": [
       "(15000, 55710.25)"
      ]
     },
     "execution_count": 148,
     "metadata": {},
     "output_type": "execute_result"
    },
    {
     "data": {
      "image/png": "[encoded data removed]",
      "text/plain": [
       "<Figure size 1080x576 with 1 Axes>"
      ]
     },
     "metadata": {
      "needs_background": "light"
     },
     "output_type": "display_data"
    }
   ],
   "source": [
    "df_gun_ny_month = df_gun_ny.groupby('quarter')['total_long_gun'].sum().plot(figsize=(15,8))\n",
    "plt.xlabel('Year', fontsize=16)\n",
    "plt.ylabel('Number of Background Checks', fontsize=16)\n",
    "plt.title('Number of Quarterly Background Checks for Long Guns, 2000-2009', fontsize=20)\n",
    "plt.legend(['Long Gun'],loc='lower right')\n",
    "plt.ylim(15000,)"
   ]
  },
  {
   "cell_type": "markdown",
   "metadata": {},
   "source": [
    "Clearly, there is a strong trend in Q4!\n",
    "Let's confirm: In which months of every year the highest background check activity for Long Guns occurred?"
   ]
  },
  {
   "cell_type": "code",
   "execution_count": 141,
   "metadata": {},
   "outputs": [
    {
     "data": {
      "text/html": [
       "<div>\n",
       "<style scoped>\n",
       "    .dataframe tbody tr th:only-of-type {\n",
       "        vertical-align: middle;\n",
       "    }\n",
       "\n",
       "    .dataframe tbody tr th {\n",
       "        vertical-align: top;\n",
       "    }\n",
       "\n",
       "    .dataframe thead th {\n",
       "        text-align: right;\n",
       "    }\n",
       "</style>\n",
       "<table border=\"1\" class=\"dataframe\">\n",
       "  <thead>\n",
       "    <tr style=\"text-align: right;\">\n",
       "      <th></th>\n",
       "      <th>year</th>\n",
       "      <th>quarter</th>\n",
       "      <th>month</th>\n",
       "      <th>long_gun</th>\n",
       "    </tr>\n",
       "  </thead>\n",
       "  <tbody>\n",
       "    <tr>\n",
       "      <td>11144</td>\n",
       "      <td>2000</td>\n",
       "      <td>2000Q4</td>\n",
       "      <td>2000-11-01</td>\n",
       "      <td>14052</td>\n",
       "    </tr>\n",
       "    <tr>\n",
       "      <td>10539</td>\n",
       "      <td>2001</td>\n",
       "      <td>2001Q4</td>\n",
       "      <td>2001-10-01</td>\n",
       "      <td>17888</td>\n",
       "    </tr>\n",
       "    <tr>\n",
       "      <td>9879</td>\n",
       "      <td>2002</td>\n",
       "      <td>2002Q4</td>\n",
       "      <td>2002-10-01</td>\n",
       "      <td>14158</td>\n",
       "    </tr>\n",
       "    <tr>\n",
       "      <td>9164</td>\n",
       "      <td>2003</td>\n",
       "      <td>2003Q4</td>\n",
       "      <td>2003-11-01</td>\n",
       "      <td>13967</td>\n",
       "    </tr>\n",
       "    <tr>\n",
       "      <td>8559</td>\n",
       "      <td>2004</td>\n",
       "      <td>2004Q4</td>\n",
       "      <td>2004-10-01</td>\n",
       "      <td>15386</td>\n",
       "    </tr>\n",
       "    <tr>\n",
       "      <td>7899</td>\n",
       "      <td>2005</td>\n",
       "      <td>2005Q4</td>\n",
       "      <td>2005-10-01</td>\n",
       "      <td>14408</td>\n",
       "    </tr>\n",
       "    <tr>\n",
       "      <td>7129</td>\n",
       "      <td>2006</td>\n",
       "      <td>2006Q4</td>\n",
       "      <td>2006-12-01</td>\n",
       "      <td>17617</td>\n",
       "    </tr>\n",
       "    <tr>\n",
       "      <td>6524</td>\n",
       "      <td>2007</td>\n",
       "      <td>2007Q4</td>\n",
       "      <td>2007-11-01</td>\n",
       "      <td>16062</td>\n",
       "    </tr>\n",
       "    <tr>\n",
       "      <td>5864</td>\n",
       "      <td>2008</td>\n",
       "      <td>2008Q4</td>\n",
       "      <td>2008-11-01</td>\n",
       "      <td>20863</td>\n",
       "    </tr>\n",
       "    <tr>\n",
       "      <td>5259</td>\n",
       "      <td>2009</td>\n",
       "      <td>2009Q4</td>\n",
       "      <td>2009-10-01</td>\n",
       "      <td>17047</td>\n",
       "    </tr>\n",
       "  </tbody>\n",
       "</table>\n",
       "</div>"
      ],
      "text/plain": [
       "       year quarter      month  long_gun\n",
       "11144  2000  2000Q4 2000-11-01     14052\n",
       "10539  2001  2001Q4 2001-10-01     17888\n",
       "9879   2002  2002Q4 2002-10-01     14158\n",
       "9164   2003  2003Q4 2003-11-01     13967\n",
       "8559   2004  2004Q4 2004-10-01     15386\n",
       "7899   2005  2005Q4 2005-10-01     14408\n",
       "7129   2006  2006Q4 2006-12-01     17617\n",
       "6524   2007  2007Q4 2007-11-01     16062\n",
       "5864   2008  2008Q4 2008-11-01     20863\n",
       "5259   2009  2009Q4 2009-10-01     17047"
      ]
     },
     "execution_count": 141,
     "metadata": {},
     "output_type": "execute_result"
    }
   ],
   "source": [
    "# Get the months with maximum amounts of long gun background checks\n",
    "idx = df_gun_ny.groupby(['year'])['total_long_gun'].idxmax()\n",
    "df_gun_ny[['year','quarter','month','long_gun']].loc[idx]"
   ]
  },
  {
   "cell_type": "markdown",
   "metadata": {},
   "source": [
    "And what about the worst quarters in terms of performance? Looks like it's Q2 every year.\n",
    "Let's confirm: In which months of every year the highest background check activity occurred?"
   ]
  },
  {
   "cell_type": "code",
   "execution_count": 146,
   "metadata": {},
   "outputs": [
    {
     "data": {
      "text/html": [
       "<div>\n",
       "<style scoped>\n",
       "    .dataframe tbody tr th:only-of-type {\n",
       "        vertical-align: middle;\n",
       "    }\n",
       "\n",
       "    .dataframe tbody tr th {\n",
       "        vertical-align: top;\n",
       "    }\n",
       "\n",
       "    .dataframe thead th {\n",
       "        text-align: right;\n",
       "    }\n",
       "</style>\n",
       "<table border=\"1\" class=\"dataframe\">\n",
       "  <thead>\n",
       "    <tr style=\"text-align: right;\">\n",
       "      <th></th>\n",
       "      <th>year</th>\n",
       "      <th>quarter</th>\n",
       "      <th>month</th>\n",
       "      <th>long_gun</th>\n",
       "    </tr>\n",
       "  </thead>\n",
       "  <tbody>\n",
       "    <tr>\n",
       "      <td>11419</td>\n",
       "      <td>2000</td>\n",
       "      <td>2000Q2</td>\n",
       "      <td>2000-06-01</td>\n",
       "      <td>4674</td>\n",
       "    </tr>\n",
       "    <tr>\n",
       "      <td>10759</td>\n",
       "      <td>2001</td>\n",
       "      <td>2001Q2</td>\n",
       "      <td>2001-06-01</td>\n",
       "      <td>4485</td>\n",
       "    </tr>\n",
       "    <tr>\n",
       "      <td>10044</td>\n",
       "      <td>2002</td>\n",
       "      <td>2002Q3</td>\n",
       "      <td>2002-07-01</td>\n",
       "      <td>4958</td>\n",
       "    </tr>\n",
       "    <tr>\n",
       "      <td>9384</td>\n",
       "      <td>2003</td>\n",
       "      <td>2003Q3</td>\n",
       "      <td>2003-07-01</td>\n",
       "      <td>5098</td>\n",
       "    </tr>\n",
       "    <tr>\n",
       "      <td>8779</td>\n",
       "      <td>2004</td>\n",
       "      <td>2004Q2</td>\n",
       "      <td>2004-06-01</td>\n",
       "      <td>5400</td>\n",
       "    </tr>\n",
       "    <tr>\n",
       "      <td>8119</td>\n",
       "      <td>2005</td>\n",
       "      <td>2005Q2</td>\n",
       "      <td>2005-06-01</td>\n",
       "      <td>5122</td>\n",
       "    </tr>\n",
       "    <tr>\n",
       "      <td>7404</td>\n",
       "      <td>2006</td>\n",
       "      <td>2006Q3</td>\n",
       "      <td>2006-07-01</td>\n",
       "      <td>6554</td>\n",
       "    </tr>\n",
       "    <tr>\n",
       "      <td>6799</td>\n",
       "      <td>2007</td>\n",
       "      <td>2007Q2</td>\n",
       "      <td>2007-06-01</td>\n",
       "      <td>7131</td>\n",
       "    </tr>\n",
       "    <tr>\n",
       "      <td>6084</td>\n",
       "      <td>2008</td>\n",
       "      <td>2008Q3</td>\n",
       "      <td>2008-07-01</td>\n",
       "      <td>7014</td>\n",
       "    </tr>\n",
       "    <tr>\n",
       "      <td>5424</td>\n",
       "      <td>2009</td>\n",
       "      <td>2009Q3</td>\n",
       "      <td>2009-07-01</td>\n",
       "      <td>8313</td>\n",
       "    </tr>\n",
       "  </tbody>\n",
       "</table>\n",
       "</div>"
      ],
      "text/plain": [
       "       year quarter      month  long_gun\n",
       "11419  2000  2000Q2 2000-06-01      4674\n",
       "10759  2001  2001Q2 2001-06-01      4485\n",
       "10044  2002  2002Q3 2002-07-01      4958\n",
       "9384   2003  2003Q3 2003-07-01      5098\n",
       "8779   2004  2004Q2 2004-06-01      5400\n",
       "8119   2005  2005Q2 2005-06-01      5122\n",
       "7404   2006  2006Q3 2006-07-01      6554\n",
       "6799   2007  2007Q2 2007-06-01      7131\n",
       "6084   2008  2008Q3 2008-07-01      7014\n",
       "5424   2009  2009Q3 2009-07-01      8313"
      ]
     },
     "execution_count": 146,
     "metadata": {},
     "output_type": "execute_result"
    }
   ],
   "source": [
    "# Get the months with minimum amounts of long gun transactions\n",
    "idmin = df_gun_ny.groupby(['year'])['total_long_gun'].idxmin()\n",
    "df_gun_ny[['year','quarter','month','long_gun']].loc[idmin]"
   ]
  },
  {
   "cell_type": "markdown",
   "metadata": {},
   "source": [
    "<a id='conclusions'></a>\n",
    "## Conclusions\n",
    "\n",
    "### Observations regarding Question 1\n",
    "\n",
    "As we can see, the split among the gun type in Kentucky has changed drastically over the years.\n",
    "In 1999, background checks using Long Guns prevailed in Kentucky with 53.8% of total gun transactions, with 44.3% of items related to Handgun checks.\n",
    "\n",
    "However, in 2016, the split show us complete dominance in Handgun transactions, amounting to 60.7%. Long Gun background check share fell from 53.8% in 1999 to 36.0% in 2017. Also, it bears mentioning that a new group of weapons - Other** - appeared in the split \n",
    "\n",
    "_(** mostly frames or receivers - NICS)._"
   ]
  },
  {
   "cell_type": "markdown",
   "metadata": {},
   "source": [
    "### Observations regarding Question 2\n",
    "\n",
    "As the data show us, there is no seasonality in Handgun background checks throughout the first decade of the XXI century (2000-2009).\n",
    "\n",
    "However, we can notice a very high seasonality for Long Guns background checks during the same time frame:\n",
    "\n",
    "• We can see that for every year in the decade, the Q2 and Q3 are the lowest quarters in terms of gun transactions. If we dig this deeper, we will see that the worst months are June and July. Most probably, it is due to the summer holidays, when lots of gun shop owners and employees are on vacations, along with clients and authorities.\n",
    "\n",
    "• Q2 and Q3 are then followed by the spike of transactions in Q4. The most active months throughout the decade and October and November. Theoretically, it can be linked to a end-year holiday season with its numerous major holidays and sales periods (Thanksgiving, Black Friday, Cyber Monday, Christmas Day, New Year's Eve). \n",
    "\n",
    "• Then, after the holiday season there is always a drop in transactions in Q1 - it can probably be linked to the winter holiday season, when people stay indoors and don't do any hunting or shooting activity. Also, some people are out of town or even country."
   ]
  },
  {
   "cell_type": "code",
   "execution_count": null,
   "metadata": {},
   "outputs": [],
   "source": []
  }
 ],
 "metadata": {
  "kernelspec": {
   "display_name": "Python 3",
   "language": "python",
   "name": "python3"
  },
  "language_info": {
   "codemirror_mode": {
    "name": "ipython",
    "version": 3
   },
   "file_extension": ".py",
   "mimetype": "text/x-python",
   "name": "python",
   "nbconvert_exporter": "python",
   "pygments_lexer": "ipython3",
   "version": "3.7.4"
  }
 },
 "nbformat": 4,
 "nbformat_minor": 2
}
